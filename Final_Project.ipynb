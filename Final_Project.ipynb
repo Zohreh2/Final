{
  "metadata": {
    "language_info": {
      "codemirror_mode": {
        "name": "python",
        "version": 3
      },
      "file_extension": ".py",
      "mimetype": "text/x-python",
      "name": "python",
      "nbconvert_exporter": "python",
      "pygments_lexer": "ipython3",
      "version": "3.8"
    },
    "kernelspec": {
      "name": "python",
      "display_name": "Pyolite",
      "language": "python"
    }
  },
  "nbformat_minor": 4,
  "nbformat": 4,
  "cells": [
    {
      "cell_type": "markdown",
      "source": "# My Jupyter Notebook on IBM Watson Studio",
      "metadata": {
        "tags": []
      }
    },
    {
      "cell_type": "markdown",
      "source": "__Zohreh Sharif Kazemi__",
      "metadata": {}
    },
    {
      "cell_type": "markdown",
      "source": "_I am interested in data science because I believe discovering the truth behind the data is so exciting. Also I am curious to learn and apply different techniques to explore the data._",
      "metadata": {
        "tags": []
      }
    },
    {
      "cell_type": "markdown",
      "source": "### The following code calculates 8+4:",
      "metadata": {}
    },
    {
      "cell_type": "code",
      "source": "x = 8\ny = 4\nz= x+y\nprint(\"8+4= \", z)",
      "metadata": {
        "trusted": true
      },
      "execution_count": 8,
      "outputs": [
        {
          "name": "stdout",
          "text": "8+4=  12\n",
          "output_type": "stream"
        }
      ]
    },
    {
      "cell_type": "markdown",
      "source": "***",
      "metadata": {}
    },
    {
      "cell_type": "markdown",
      "source": "| A  |  B |  C|\n|---:|---:|---:|\n| 1  |  2 |  3 |\n| 4  |  5 |   6|\n|  7 | 8  |  9 |",
      "metadata": {}
    },
    {
      "cell_type": "markdown",
      "source": "<a href=\"https://dataplatform.cloud.ibm.com/gallery\">IBM Cloud Gallery</a>",
      "metadata": {}
    },
    {
      "cell_type": "markdown",
      "source": "- Blue\n- Red\n- Green\n- Purple\n- Black\n- White",
      "metadata": {}
    }
  ]
}